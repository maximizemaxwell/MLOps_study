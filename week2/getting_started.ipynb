{
 "cells": [
  {
   "cell_type": "code",
   "id": "efdf3e85-2677-4f15-8b7a-80cc6af5aec0",
   "metadata": {
    "ExecuteTime": {
     "end_time": "2025-03-27T01:51:51.878358Z",
     "start_time": "2025-03-27T01:51:49.107517Z"
    }
   },
   "source": [
    "import mlflow"
   ],
   "outputs": [],
   "execution_count": 1
  },
  {
   "cell_type": "code",
   "id": "55ac779f-ae40-4046-ad87-a65d070d497f",
   "metadata": {
    "ExecuteTime": {
     "end_time": "2025-03-27T01:51:51.922972Z",
     "start_time": "2025-03-27T01:51:51.917937Z"
    }
   },
   "source": [
    "mlflow.set_tracking_uri(\"http://127.0.0.1:5000\")"
   ],
   "outputs": [],
   "execution_count": 2
  },
  {
   "cell_type": "code",
   "id": "326c4ea5-e790-4ff1-af29-9183a86e38af",
   "metadata": {
    "ExecuteTime": {
     "end_time": "2025-03-27T01:51:52.215458Z",
     "start_time": "2025-03-27T01:51:52.069153Z"
    }
   },
   "source": [
    "mlflow.set_experiment(\"Check localhost connection\")\n",
    "with mlflow.start_run():\n",
    "    mlflow.log_metric(\"test\", 1)\n",
    "    mlflow.log_metric(\"Krish\", 2)"
   ],
   "outputs": [
    {
     "name": "stdout",
     "output_type": "stream",
     "text": [
      "🏃 View run rare-eel-638 at: http://127.0.0.1:5000/#/experiments/298598063491618233/runs/5ba0ed9f984d4ea589511aa4a30bf945\n",
      "🧪 View experiment at: http://127.0.0.1:5000/#/experiments/298598063491618233\n"
     ]
    }
   ],
   "execution_count": 3
  },
  {
   "cell_type": "code",
   "execution_count": null,
   "id": "ab34dfc9-298c-475b-9169-b2495118174e",
   "metadata": {},
   "outputs": [],
   "source": []
  }
 ],
 "metadata": {
  "kernelspec": {
   "display_name": "Python 3 (ipykernel)",
   "language": "python",
   "name": "python3"
  },
  "language_info": {
   "codemirror_mode": {
    "name": "ipython",
    "version": 3
   },
   "file_extension": ".py",
   "mimetype": "text/x-python",
   "name": "python",
   "nbconvert_exporter": "python",
   "pygments_lexer": "ipython3",
   "version": "3.13.2"
  }
 },
 "nbformat": 4,
 "nbformat_minor": 5
}
